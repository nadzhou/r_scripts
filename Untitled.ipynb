{
 "cells": [
  {
   "cell_type": "code",
   "execution_count": null,
   "metadata": {},
   "outputs": [],
   "source": [
    "if (!requireNamespace(\"BiocManager\", quietly = TRUE))\n",
    "  install.packages(\"BiocManager\")\n",
    "\n",
    "BiocManager::install(\"Rsamtools\")\n",
    "BiocManager::install(\"parathyroidSE\")\n",
    "BiocManager::install(c(\"GenomicFeatures\", \"AnnotationDbi\", \"DESeq2\", \"parathyroidSE\"))\n",
    "\n",
    "\n",
    "gffFile <- system.file(\"extdata\",\"GFF3_files\",\"a.gff3\",package=\"GenomicFeatures\")\n",
    "\n",
    "hse <- makeTranscriptDbFromGFF( \"annotation.gtf\", format=\"gtf\" )\n",
    "exonsByGene <- exonsBy( hse, by=\"gene\" )\n",
    "\n",
    "bamLst <- BamFileList( fls, yieldSize=100000 )\n",
    "\n",
    "fls <- list.files( \"expression.bam\", pattern=\"bam$\", full=TRUE )\n",
    "\n",
    "\n",
    "library( \"GenomicAlignments\" )\n",
    "se <- summarizeOverlaps( exonsByGene, bamLst,\n",
    "                         mode=\"Union\",\n",
    "                         singleEnd=FALSE,\n",
    "                         ignore.strand=TRUE,\n",
    "                         fragments=TRUE )\n"
   ]
  },
  {
   "cell_type": "code",
   "execution_count": 5,
   "metadata": {},
   "outputs": [
    {
     "ename": "ERROR",
     "evalue": "Error in parse(text = x, srcfile = src): <text>:1:6: unexpected symbol\n1: sudo apt\n         ^\n",
     "output_type": "error",
     "traceback": [
      "Error in parse(text = x, srcfile = src): <text>:1:6: unexpected symbol\n1: sudo apt\n         ^\nTraceback:\n"
     ]
    }
   ],
   "source": [
    "sudo apt-get install libxml2-dev\n",
    "sudo apt-get install r-cran-xml\n",
    "sudo apt-get install libcurl4-openssl-dev"
   ]
  },
  {
   "cell_type": "code",
   "execution_count": null,
   "metadata": {},
   "outputs": [],
   "source": []
  }
 ],
 "metadata": {
  "kernelspec": {
   "display_name": "R",
   "language": "R",
   "name": "ir"
  },
  "language_info": {
   "codemirror_mode": "r",
   "file_extension": ".r",
   "mimetype": "text/x-r-source",
   "name": "R",
   "pygments_lexer": "r",
   "version": "3.6.1"
  }
 },
 "nbformat": 4,
 "nbformat_minor": 5
}
